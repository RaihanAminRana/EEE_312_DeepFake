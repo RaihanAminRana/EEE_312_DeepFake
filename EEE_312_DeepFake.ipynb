{
  "nbformat": 4,
  "nbformat_minor": 0,
  "metadata": {
    "colab": {
      "provenance": [],
      "mount_file_id": "1X9NBVjT2VGRc7gwsq-qzHmSIJFLkm6Gk",
      "authorship_tag": "ABX9TyOx1bmwYWdA3oHhUF3DFqfh",
      "include_colab_link": true
    },
    "kernelspec": {
      "name": "python3",
      "display_name": "Python 3"
    },
    "language_info": {
      "name": "python"
    }
  },
  "cells": [
    {
      "cell_type": "markdown",
      "metadata": {
        "id": "view-in-github",
        "colab_type": "text"
      },
      "source": [
        "<a href=\"https://colab.research.google.com/github/RaihanAminRana/EEE_312_DeepFake/blob/CollabNotebooks/EEE_312_DeepFake.ipynb\" target=\"_parent\"><img src=\"https://colab.research.google.com/assets/colab-badge.svg\" alt=\"Open In Colab\"/></a>"
      ]
    },
    {
      "cell_type": "markdown",
      "source": [
        "\n",
        "**EEE 312 - Deep Fake**\n",
        "\n",
        "Using XGB Classifier\n"
      ],
      "metadata": {
        "id": "VwczyyaKn-ta"
      }
    },
    {
      "cell_type": "markdown",
      "source": [
        "Importing\n"
      ],
      "metadata": {
        "id": "VPIFgq7yoU20"
      }
    },
    {
      "cell_type": "code",
      "source": [
        "#!pip install kaggle\n",
        "#from google.colab import drive\n",
        "#drive.mount('/content/drive')\n",
        "#!mkdir ~/.kaggle\n",
        "#!cp /content/drive/MyDrive/ColabNotebooks/KaggleAPICredentials/kaggle.json ~/.kaggle/kaggle.json\n",
        "#! chmod 600 ~/.kaggle/kaggle.json\n",
        "#! kaggle datasets download -d raihanaminrana/train-data-large1\n",
        "#! kaggle datasets download -d raihanaminrana/test-dataset\n",
        "#! kaggle datasets download -d raihanaminrana/train-data-short\n"
      ],
      "metadata": {
        "id": "uXeMS4lst1bS"
      },
      "execution_count": 18,
      "outputs": []
    },
    {
      "cell_type": "code",
      "source": [
        "#Beta parameters\n",
        "import numpy as np\n",
        "import scipy.fft\n",
        "import statistics as stat\n",
        "\n",
        "#Dataframe /imgae visualization\n",
        "import pandas as pd\n",
        "import matplotlib.pyplot as plt\n",
        "\n",
        "#Image directories\n",
        "import os\n",
        "import glob\n",
        "import cv2\n",
        "from torch.utils.data import random_split\n",
        "\n",
        "#Data batch making\n",
        "import torch\n",
        "from torch.utils.data import Dataset, DataLoader\n",
        "\n",
        "\n",
        "#XceptionNet\n",
        "#import torch\n",
        "import torch.nn as nn\n",
        "import torch.nn.functional as F\n",
        "\n",
        "#training\n",
        "import torch.optim as optim"
      ],
      "metadata": {
        "id": "jaHKih49wClQ"
      },
      "execution_count": 19,
      "outputs": []
    },
    {
      "cell_type": "markdown",
      "source": [
        "dsd"
      ],
      "metadata": {
        "id": "uQVRxxXY95j1"
      }
    },
    {
      "cell_type": "code",
      "source": [
        "! pip install -U albumentations"
      ],
      "metadata": {
        "colab": {
          "base_uri": "https://localhost:8080/"
        },
        "id": "PqNaHWQS944k",
        "outputId": "b929914f-4cae-4b06-eb77-dd89c16fa756"
      },
      "execution_count": 20,
      "outputs": [
        {
          "output_type": "stream",
          "name": "stdout",
          "text": [
            "Looking in indexes: https://pypi.org/simple, https://us-python.pkg.dev/colab-wheels/public/simple/\n",
            "Requirement already satisfied: albumentations in /usr/local/lib/python3.8/dist-packages (1.2.1)\n",
            "Collecting albumentations\n",
            "  Downloading albumentations-1.3.0-py3-none-any.whl (123 kB)\n",
            "\u001b[2K     \u001b[90m━━━━━━━━━━━━━━━━━━━━━━━━━━━━━━━━━━━━━━\u001b[0m \u001b[32m123.5/123.5 KB\u001b[0m \u001b[31m11.4 MB/s\u001b[0m eta \u001b[36m0:00:00\u001b[0m\n",
            "\u001b[?25hRequirement already satisfied: scikit-image>=0.16.1 in /usr/local/lib/python3.8/dist-packages (from albumentations) (0.18.3)\n",
            "Requirement already satisfied: PyYAML in /usr/local/lib/python3.8/dist-packages (from albumentations) (6.0)\n",
            "Requirement already satisfied: opencv-python-headless>=4.1.1 in /usr/local/lib/python3.8/dist-packages (from albumentations) (4.7.0.68)\n",
            "Requirement already satisfied: qudida>=0.0.4 in /usr/local/lib/python3.8/dist-packages (from albumentations) (0.0.4)\n",
            "Requirement already satisfied: numpy>=1.11.1 in /usr/local/lib/python3.8/dist-packages (from albumentations) (1.21.6)\n",
            "Requirement already satisfied: scipy in /usr/local/lib/python3.8/dist-packages (from albumentations) (1.7.3)\n",
            "Requirement already satisfied: typing-extensions in /usr/local/lib/python3.8/dist-packages (from qudida>=0.0.4->albumentations) (4.4.0)\n",
            "Requirement already satisfied: scikit-learn>=0.19.1 in /usr/local/lib/python3.8/dist-packages (from qudida>=0.0.4->albumentations) (1.0.2)\n",
            "Requirement already satisfied: matplotlib!=3.0.0,>=2.0.0 in /usr/local/lib/python3.8/dist-packages (from scikit-image>=0.16.1->albumentations) (3.2.2)\n",
            "Requirement already satisfied: PyWavelets>=1.1.1 in /usr/local/lib/python3.8/dist-packages (from scikit-image>=0.16.1->albumentations) (1.4.1)\n",
            "Requirement already satisfied: tifffile>=2019.7.26 in /usr/local/lib/python3.8/dist-packages (from scikit-image>=0.16.1->albumentations) (2023.1.23.1)\n",
            "Requirement already satisfied: pillow!=7.1.0,!=7.1.1,>=4.3.0 in /usr/local/lib/python3.8/dist-packages (from scikit-image>=0.16.1->albumentations) (7.1.2)\n",
            "Requirement already satisfied: imageio>=2.3.0 in /usr/local/lib/python3.8/dist-packages (from scikit-image>=0.16.1->albumentations) (2.9.0)\n",
            "Requirement already satisfied: networkx>=2.0 in /usr/local/lib/python3.8/dist-packages (from scikit-image>=0.16.1->albumentations) (3.0)\n",
            "Requirement already satisfied: python-dateutil>=2.1 in /usr/local/lib/python3.8/dist-packages (from matplotlib!=3.0.0,>=2.0.0->scikit-image>=0.16.1->albumentations) (2.8.2)\n",
            "Requirement already satisfied: kiwisolver>=1.0.1 in /usr/local/lib/python3.8/dist-packages (from matplotlib!=3.0.0,>=2.0.0->scikit-image>=0.16.1->albumentations) (1.4.4)\n",
            "Requirement already satisfied: cycler>=0.10 in /usr/local/lib/python3.8/dist-packages (from matplotlib!=3.0.0,>=2.0.0->scikit-image>=0.16.1->albumentations) (0.11.0)\n",
            "Requirement already satisfied: pyparsing!=2.0.4,!=2.1.2,!=2.1.6,>=2.0.1 in /usr/local/lib/python3.8/dist-packages (from matplotlib!=3.0.0,>=2.0.0->scikit-image>=0.16.1->albumentations) (3.0.9)\n",
            "Requirement already satisfied: joblib>=0.11 in /usr/local/lib/python3.8/dist-packages (from scikit-learn>=0.19.1->qudida>=0.0.4->albumentations) (1.2.0)\n",
            "Requirement already satisfied: threadpoolctl>=2.0.0 in /usr/local/lib/python3.8/dist-packages (from scikit-learn>=0.19.1->qudida>=0.0.4->albumentations) (3.1.0)\n",
            "Requirement already satisfied: six>=1.5 in /usr/local/lib/python3.8/dist-packages (from python-dateutil>=2.1->matplotlib!=3.0.0,>=2.0.0->scikit-image>=0.16.1->albumentations) (1.15.0)\n",
            "Installing collected packages: albumentations\n",
            "  Attempting uninstall: albumentations\n",
            "    Found existing installation: albumentations 1.2.1\n",
            "    Uninstalling albumentations-1.2.1:\n",
            "      Successfully uninstalled albumentations-1.2.1\n",
            "Successfully installed albumentations-1.3.0\n"
          ]
        }
      ]
    },
    {
      "cell_type": "code",
      "source": [
        "import albumentations as A"
      ],
      "metadata": {
        "id": "SronE5ad99Od"
      },
      "execution_count": 21,
      "outputs": []
    },
    {
      "cell_type": "code",
      "source": [
        "class CustomDataset(Dataset):\n",
        "    def __init__(self):\n",
        "        self.imgs_path = \"/content/Train-Data-Large1\"\n",
        "        file_list = glob.glob(self.imgs_path +\"/*\")\n",
        "        print(file_list)\n",
        "        \n",
        "        self.class_map = {\"0-Real\" : 0, \"1-Fake\": 1}\n",
        "        self.img_dim = (128, 128)\n",
        "        \n",
        "        self.data = []\n",
        "                \n",
        "        for class_path in file_list:\n",
        "            class_name = class_path.split(\"/\")[-1]\n",
        "            print(class_name)\n",
        "            for img_path in glob.iglob(class_path +\"/**/*\"):\n",
        "                Original_Image = cv2.imread(img_path)\n",
        "                Original_Image = np.array(Original_Image)\n",
        "                \n",
        "                AUG = [A.CenterCrop(128,128), A.HorizontalFlip]\n",
        "                \n",
        "                ###Original Image\n",
        "                Image = cv2.resize( Original_Image, self.img_dim)\n",
        "                Image_gray = cv2.cvtColor(Image, cv2.COLOR_BGR2GRAY)\n",
        "                #plt.imshow(Image_gray)\n",
        "                beta_tensor = self.get_beta_params(Image_gray)\n",
        "                self.data.append([beta_tensor, self.class_map[class_name]])\n",
        "                \n",
        "                \n",
        "                ###JPEG Compression-1\n",
        "                \n",
        "                \n",
        "                \n",
        "                ####JPEG Compression -50\n",
        "                \n",
        "                \n",
        "                \n",
        "                \n",
        "                \n",
        "                \n",
        "                ####JPEG Compression - 100\n",
        "                \n",
        "                \n",
        "                \n",
        "                \n",
        "                \n",
        "                \n",
        "                ####Gaussian Filter - 3by3\n",
        "                \n",
        "                \n",
        "                \n",
        "                \n",
        "                ####Gaussian Filter - 9by9\n",
        "                \n",
        "                \n",
        "                \n",
        "                ####Gaussian Filter - 15by15\n",
        "                \n",
        "                \n",
        "                \n",
        "                \n",
        "                ####Flipped left to right\n",
        "                transform_cc = AUG[1](p=1)\n",
        "                #A.Compose([A.CenterCrop(width=128, height=128),])\n",
        "                flipped_Images = transform_cc(image = Original_Image)\n",
        "                flipped_Image = cv2.resize(flipped_Images[\"image\"], self.img_dim)\n",
        "                Image_gray = cv2.cvtColor(flipped_Image, cv2.COLOR_BGR2GRAY)\n",
        "                beta_tensor = self.get_beta_params(Image_gray)\n",
        "                self.data.append([beta_tensor, self.class_map[class_name]])\n",
        "                \n",
        "                \n",
        "                \n",
        "                ####Flipped right to left\n",
        "                \n",
        "                \n",
        "                \n",
        "                ###flipped Up and Down Image\n",
        "                flipped_Image = np.flipud( Original_Image)\n",
        "                flipped_Image = cv2.resize(flipped_Image, self.img_dim)\n",
        "                Image_gray = cv2.cvtColor(flipped_Image, cv2.COLOR_BGR2GRAY)\n",
        "                #plt.imshow(Image_gray)\n",
        "                beta_tensor = self.get_beta_params(Image_gray)\n",
        "                self.data.append([beta_tensor, self.class_map[class_name]])\n",
        "                \n",
        "                \n",
        "                \n",
        "                ####45 degree rotation\n",
        "                \n",
        "                \n",
        "                \n",
        "                \n",
        "                ###90 degree Rotated Image, Clockwise\n",
        "                Rotate90_Image = np.rot90(Original_Image, k=1, axes=(0, 1))\n",
        "                #plt.imshow(Rotate90_Image)\n",
        "                Rotate90_Image = cv2.resize(Rotate90_Image, self.img_dim)\n",
        "                Image_gray = cv2.cvtColor(Rotate90_Image, cv2.COLOR_BGR2GRAY)\n",
        "                beta_tensor = self.get_beta_params(Image_gray)\n",
        "                self.data.append([beta_tensor, self.class_map[class_name]])\n",
        "                \n",
        "                \n",
        "                \n",
        "                ###135 degree rotation\n",
        "                \n",
        "                \n",
        "                \n",
        "                ###180 degree rotation\n",
        "                Rotate180_Image = np.rot90(Original_Image, k=2, axes=(0, 1))\n",
        "                Rotate180_Image = cv2.resize(Rotate180_Image, self.img_dim)\n",
        "                Image_gray = cv2.cvtColor(Rotate180_Image, cv2.COLOR_BGR2GRAY)\n",
        "                beta_tensor = self.get_beta_params(Image_gray)\n",
        "                self.data.append([beta_tensor, self.class_map[class_name]])\n",
        "                \n",
        "                \n",
        "                \n",
        "                \n",
        "                ###Scaling  -50%\n",
        "                \n",
        "                \n",
        "                \n",
        "                \n",
        "                ####Scaling +50%\n",
        "                \n",
        "                \n",
        "                ####Center Crop\n",
        "                \n",
        "                transform_cc = AUG[0]\n",
        "                #A.Compose([A.CenterCrop(width=128, height=128),])\n",
        "                Center_Crop = transform_cc(image = Original_Image)\n",
        "                plt.imshow(Center_Crop[\"image\"])\n",
        "                Cropped_Image = cv2.resize(Center_Crop[\"image\"], self.img_dim)\n",
        "                Image_gray = cv2.cvtColor(Cropped_Image, cv2.COLOR_BGR2GRAY)\n",
        "                beta_tensor = self.get_beta_params(Image_gray)\n",
        "                self.data.append([beta_tensor, self.class_map[class_name]])\n",
        "      \n",
        "    def get_beta_params(self, Image):\n",
        "        beta = np.zeros((8,8))\n",
        "        block_m = 8  # rows in block\n",
        "        block_n = 8  # cols in block\n",
        "        B = Image.reshape((-1, block_m, Image.shape[1]//block_n, block_n))  \n",
        "        betas = B.transpose((0,2,1,3))\n",
        "        \n",
        "        \n",
        "        ####Calculating DCT coefficients of nn-overlapping blocks\n",
        "        for i in range(8):\n",
        "            for j in range(8):\n",
        "                betas[i,j] = scipy.fft.dctn(betas[i,j])\n",
        "        \n",
        "        \n",
        "        ###Calculating Beta Coefficients\n",
        "        for i in range(8):\n",
        "            for j in range(8):\n",
        "                beta[i,j] = (1/np.sqrt(2))*np.std(betas[:,:,i,j].flatten())\n",
        "       \n",
        "        ####Ordering in ZigZag Order\n",
        "        B = []\n",
        "        for i in range(7, -8, -1):\n",
        "            if i %2 == 0:\n",
        "                for  l in np.fliplr(beta).diagonal(i):\n",
        "                    B.append(l)\n",
        "            else: \n",
        "                for m in np.flip(np.fliplr(beta).diagonal(i)):\n",
        "                    B.append(m)\n",
        "        beta = np.array(B).reshape(8,8) \n",
        "        \n",
        "        return beta \n",
        "\n",
        "    def __len__(self):\n",
        "        return len(self.data)\n",
        "\n",
        "\n",
        "    def __getitem__(self, idx):\n",
        "        beta_tensor, label = self.data[idx]  \n",
        "        return beta_tensor.flatten(), label\n",
        "    \n",
        "if __name__ == \"__main__\":\n",
        "    dataset = CustomDataset() \n",
        "    print(len(dataset))\n",
        "    \n",
        "    len_dataset = len(dataset)\n",
        "    len_train = int(0.9*len_dataset)\n",
        "    len_valid = len_dataset -len_train\n",
        "    print(len_train, len_valid)\n",
        "    \n",
        "    train_dataset, valid_dataset = random_split(dataset, [len_train, len_valid]) \n",
        "    \n",
        "    #train_ds = DataLoader(train_dataset, batch_size=64, shuffle=True)\n",
        "    #valid_ds = DataLoader(valid_dataset, batch_size=64, shuffle=True)\n",
        "    \n",
        "    X_train = [i[0] for i in train_dataset]\n",
        "    Y_train = [i[1] for i in train_dataset]\n",
        "    \n",
        "    X_valid = [i[0] for i in valid_dataset]\n",
        "    Y_valid = [i[1] for i in valid_dataset]\n",
        "    #for beta, labels in train_ds:\n",
        "        #print(\"Batch of betas has shape: \",beta.shape)\n",
        "        #print(\"Batch of labels has shape: \", labels.shape)"
      ],
      "metadata": {
        "colab": {
          "base_uri": "https://localhost:8080/",
          "height": 355
        },
        "id": "5e4Cq5c7-CzN",
        "outputId": "98c54a20-b6af-41c1-a206-24555931ef6c"
      },
      "execution_count": 26,
      "outputs": [
        {
          "output_type": "stream",
          "name": "stdout",
          "text": [
            "['/content/Train-Data-Large1/1-Fake', '/content/Train-Data-Large1/0-Real']\n",
            "1-Fake\n",
            "0-Real\n",
            "90000\n",
            "81000 9000\n"
          ]
        },
        {
          "output_type": "display_data",
          "data": {
            "text/plain": [
              "<Figure size 432x288 with 1 Axes>"
            ],
            "image/png": "[encoded data removed]"
          },
          "metadata": {
            "needs_background": "light"
          }
        }
      ]
    },
    {
      "cell_type": "code",
      "source": [
        "#test dataset\n",
        "class CustomTestDataset(Dataset):\n",
        "    def __init__(self):\n",
        "        self.imgs_path = '/content/Test-Dataset/test-image/'\n",
        "        self.data = []\n",
        "        img_id_label = np.loadtxt(\"/content/Test-Dataset/test-label.txt\", dtype='str',delimiter=\" \")\n",
        "        for i in range(len(img_id_label)):\n",
        "            self.data.append([self.imgs_path+img_id_label[i][0], int(img_id_label[i][1])])\n",
        "        \n",
        "        print(self.data[5000])\n",
        "        \n",
        "        self.img_dim = (128, 128)\n",
        "        \n",
        "    def __len__(self):\n",
        "        return len(self.data)\n",
        "    \n",
        "    def get_beta_params(self,Image):\n",
        "        beta = np.zeros((8,8))\n",
        "        block_m = 8  # rows in block\n",
        "        block_n = 8  # cols in block\n",
        "        B = Image.reshape((-1, block_m, Image.shape[1]//block_n, block_n))  \n",
        "        betas = B.transpose((0,2,1,3))\n",
        "        \n",
        "        for i in range(8):\n",
        "            for j in range(8):\n",
        "                betas[i,j] = scipy.fft.dctn(betas[i,j])\n",
        "                \n",
        "        for i in range(8):\n",
        "            for j in range(8):\n",
        "                beta[i,j] = (1/np.sqrt(2))*np.std(betas[:,:,i,j].flatten())\n",
        "        beta[0,0] = 0 ###DC coefficients\n",
        "        \n",
        "        \n",
        "        ####Ordering in ZigZag Order\n",
        "        B = []\n",
        "        for i in range(7, -8, -1):\n",
        "            if i %2 == 0:\n",
        "                for  l in np.fliplr(beta).diagonal(i):\n",
        "                    B.append(l)\n",
        "            else: \n",
        "                for m in np.flip(np.fliplr(beta).diagonal(i)):\n",
        "                    B.append(m)\n",
        "        beta = np.array(B).reshape(8,8) \n",
        "        \n",
        "        return beta \n",
        "    \n",
        "    def __getitem__(self, idx):\n",
        "        img_path, label = self.data[idx]\n",
        "        img = cv2.imread(img_path)\n",
        "        img = cv2.resize(img, self.img_dim)\n",
        "        #img_tensor = torch.from_numpy(img)\n",
        "        #img_tensor = img_tensor.permute(2, 0, 1)\n",
        "        \n",
        "        \n",
        "        img_gray = cv2.cvtColor(img, cv2.COLOR_BGR2GRAY)\n",
        "        beta_tensor = self.get_beta_params(img_gray)\n",
        "        #beta_tensor = torch.from_numpy(beta_tensor)\n",
        "        beta_tensor = beta_tensor.reshape(1,8,8)\n",
        "        return beta_tensor.flatten(), label\n",
        "    \n",
        "#if __name__ == \"__main__\":\n",
        "test_dataset = CustomTestDataset()\n",
        "len_dataset = len(test_dataset)\n",
        "print(len_dataset)\n",
        "\n",
        "#test_ds = DataLoader(test_dataset, batch_size=64, shuffle=False)\n",
        "X_test = [i[0] for i in test_dataset]\n",
        "Y_test = [i[1] for i in test_dataset]"
      ],
      "metadata": {
        "colab": {
          "base_uri": "https://localhost:8080/"
        },
        "id": "usYX233yApQp",
        "outputId": "25093984-7bb9-428d-ec73-65e86dd3eec0"
      },
      "execution_count": 56,
      "outputs": [
        {
          "output_type": "stream",
          "name": "stdout",
          "text": [
            "['/content/Test-Dataset/test-image/5000.jpg', 1]\n",
            "7000\n"
          ]
        }
      ]
    },
    {
      "cell_type": "code",
      "source": [
        "from sklearn.preprocessing import MinMaxScaler\n",
        "from sklearn.model_selection import train_test_split\n",
        "from sklearn.metrics import classification_report, confusion_matrix\n",
        "from sklearn.ensemble import GradientBoostingClassifier"
      ],
      "metadata": {
        "id": "28cJwnD-A0jd"
      },
      "execution_count": 39,
      "outputs": []
    },
    {
      "cell_type": "code",
      "source": [
        "learning_rate = 1.6\n",
        "\n",
        "gb_clf = GradientBoostingClassifier(n_estimators=500, learning_rate=learning_rate, max_features=2, max_depth=2, random_state=0)\n",
        "gb_clf.fit(X_train, Y_train)\n",
        "#max_features=2, \n",
        "print(\"Learning rate: \", learning_rate)\n",
        "print(\"Accuracy score (training): {0:.3f}\".format(gb_clf.score(X_train, Y_train)))\n",
        "print(\"Accuracy score (validation): {0:.3f}\".format(gb_clf.score(X_valid, Y_valid)))\n",
        "print(\"Accuracy score (Test): {0:.3f}\".format(gb_clf.score(X_test, Y_test)))"
      ],
      "metadata": {
        "colab": {
          "base_uri": "https://localhost:8080/"
        },
        "id": "7Z4JI-uqA3cL",
        "outputId": "6fa24d59-1f48-4764-a685-008f5b8f04b1"
      },
      "execution_count": 60,
      "outputs": [
        {
          "output_type": "stream",
          "name": "stdout",
          "text": [
            "Learning rate:  1.6\n",
            "Accuracy score (training): 0.768\n",
            "Accuracy score (validation): 0.714\n",
            "Accuracy score (Test): 0.603\n"
          ]
        }
      ]
    },
    {
      "cell_type": "code",
      "source": [
        "from xgboost import XGBClassifier\n",
        "xgb_clf = XGBClassifier()\n",
        "xgb_clf.fit(np.array(X_train), np.array(Y_train))\n",
        "\n",
        "print(\"Accuracy score (training): {0:.3f}\".format(xgb_clf.score(X_train, Y_train)))\n",
        "print(\"Accuracy score (validation): {0:.3f}\".format(xgb_clf.score(X_valid, Y_valid)))\n",
        "print(\"Accuracy score (Test): {0:.3f}\".format(xgb_clf.score(X_test, Y_test)))"
      ],
      "metadata": {
        "colab": {
          "base_uri": "https://localhost:8080/"
        },
        "id": "TyGxyDxeA56b",
        "outputId": "5322728c-6f1a-4122-b259-d3cb560a1c92"
      },
      "execution_count": 58,
      "outputs": [
        {
          "output_type": "stream",
          "name": "stdout",
          "text": [
            "Accuracy score (training): 0.742\n",
            "Accuracy score (validation): 0.731\n",
            "Accuracy score (Test): 0.400\n"
          ]
        }
      ]
    }
  ]
}